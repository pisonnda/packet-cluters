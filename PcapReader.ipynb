{
 "cells": [
  {
   "cell_type": "code",
   "execution_count": 5,
   "id": "1a89b4f1-e1f8-47d4-8404-a97617812e9f",
   "metadata": {},
   "outputs": [],
   "source": [
    "#2022.07.14: Get data of Hajime\n",
    "from scapy.all import *\n",
    "from datetime import datetime\n",
    "import zstandard as zstd\n",
    "import dpkt\n",
    "import socket\n",
    "import sys\n",
    "import csv\n",
    "import matplotlib.pyplot as plt\n",
    "import seaborn as sns\n",
    "import pandas as pd\n",
    "\n",
    "PCAP_FILE = ['/data/darknet/2016/2016-09-30.pcap.zst']\n",
    "TH_SYN = 0x02\n",
    "TH_ACK = 0x10\n",
    "OUTFILE = 'hajime(2).csv'"
   ]
  },
  {
   "cell_type": "code",
   "execution_count": 6,
   "id": "4e8a0ebe-696b-464b-a081-2b81dd958e54",
   "metadata": {},
   "outputs": [],
   "source": [
    "#Function1: Extract pcap file from .zst compress and read with dpkt --> all packet = packets\n",
    "def extract_zst(zstfile):\n",
    "\twith open(zstfile, \"rb\") as f:\n",
    "\t\tdata = f.read()\n",
    "\n",
    "\tdctx = zstd.ZstdDecompressor()\n",
    "\tdecompressed = dctx.stream_reader(data)\n",
    "\tpackets = dpkt.pcap.Reader(decompressed)\n",
    "\tprint(\"------Extract .zst and read as Pcap Successfull------\")\n",
    "\treturn packets"
   ]
  },
  {
   "cell_type": "code",
   "execution_count": 7,
   "id": "9c43468f-0159-4d45-892f-087a4de2e5b0",
   "metadata": {},
   "outputs": [],
   "source": [
    "#Function2: Get packet from packets (srcip, dstip, ipid, ipttl) (tsport, tdport, tseq, twin)\n",
    "metaif = [\"IPID\", \"TTL\",\"SRCIP\", \"DSTIP\", \"SPORT\", \"DPORT\", \"TSEQ\", \"WINDS\"]\n",
    "def run(packets):\n",
    "\tdatalist = []\n",
    "\t#counter = 0\n",
    "\tfor ts, buf in packets:\n",
    "\t\ttry:\n",
    "\t\t\teth = dpkt.ethernet.Ethernet(buf)\n",
    "\t\texcept:\n",
    "\t\t\tprint(\"Faile parse Frame\")\n",
    "\n",
    "\t\tif type(eth.data) == dpkt.ip.IP:\n",
    "\t\t\tip = eth.data\n",
    "\t\t\tsrcip \t= int.from_bytes(ip.src, \"big\")\n",
    "\t\t\tdstip\t= int.from_bytes(ip.dst, \"big\")\n",
    "\t\t\tipid \t= ip.id\n",
    "\t\t\tipttl \t= ip.ttl\n",
    "\t\t\tif dstip == 2523121634:\n",
    "\t\t\t\tcontinue\n",
    "\t\t\t#Verify: TCP packet\n",
    "\t\t\tif ip.p == dpkt.ip.IP_PROTO_TCP:\n",
    "\t\t\t\ttcp \t= ip.data\n",
    "\t\t\t\ttry:\n",
    "\t\t\t\t\ttsport \t= tcp.sport\n",
    "\t\t\t\t\ttdport \t= tcp.dport\n",
    "\t\t\t\t\ttseq \t= tcp.seq\n",
    "\t\t\t\t\ttwin \t= tcp.win\n",
    "\t\t\t\t\t#SYN Packets Only\n",
    "\t\t\t\t\tif tcp.flags == TH_SYN and tcp.flags != TH_ACK:\n",
    "\t\t\t\t\t\t#if tcp.dport == PORT:\n",
    "\t\t\t\t\t\t#Hajimeの特徴：　TCP.SEQ番号の上位か下位が０となっている。\n",
    "\t\t\t\t\t\tret1 = tseq & 0x00FF\n",
    "\t\t\t\t\t\tret2 = tseq & 0xFF00\n",
    "\t\t\t\t\t\tif twin == 14600:\n",
    "\t\t\t\t\t\t\tif (ret1==0) or (ret2==0):\n",
    "\t\t\t\t\t\t\t#Mirai\n",
    "\t\t\t\t\t\t\t#if dstip == tseq:\n",
    "\t\t\t\t\t\t\t\tphrase = [ipid, ipttl, srcip, dstip, tsport, tdport, tseq, twin]\n",
    "\t\t\t\t\t\t\t\t#print(phrase)\n",
    "\t\t\t\t\t\t\t\tdatalist.append(phrase)\n",
    "\t\t\t\texcept:\n",
    "\t\t\t\t\tcontinue\n",
    "    \n",
    "\twith open(OUTFILE, \"w\") as ofile:\n",
    "\t\twrite = csv.writer(ofile)\n",
    "\t\twrite.writerow(metaif)\n",
    "\t\twrite.writerows(datalist)\n",
    "\t\tprint(\"Packets:\\t\", end='')\n",
    "\t\tprint(len(datalist))\n",
    "\tret = pd.DataFrame(data=datalist, columns=metaif)\n",
    "\treturn ret"
   ]
  },
  {
   "cell_type": "code",
   "execution_count": 8,
   "id": "1d6d9ceb-6554-4ec3-ace0-7645452ac446",
   "metadata": {},
   "outputs": [],
   "source": [
    "#Function 3: Main\n",
    "def main(files):\n",
    "\tfor i in files:\n",
    "\t\tprint(i)\n",
    "\t\tplotdata = run(extract_zst(i))"
   ]
  },
  {
   "cell_type": "code",
   "execution_count": 9,
   "id": "d3c19752-6263-4995-b98a-f8c945bfd0a8",
   "metadata": {},
   "outputs": [
    {
     "name": "stdout",
     "output_type": "stream",
     "text": [
      "Type path of file\n",
      "/data/darknet/2016/2016-09-30.pcap.zst\n",
      "------Extract .zst and read as Pcap Successfull------\n",
      "Packets:\t113179\n",
      "Finish\n"
     ]
    }
   ],
   "source": [
    "if __name__ == \"__main__\":\n",
    "\tprint(\"Type path of file\")\n",
    "\tmain(PCAP_FILE)\n",
    "\tprint(\"Finish\")"
   ]
  },
  {
   "cell_type": "code",
   "execution_count": null,
   "id": "e361e7f8-d2fb-455b-923c-731322bfccc6",
   "metadata": {},
   "outputs": [],
   "source": []
  }
 ],
 "metadata": {
  "kernelspec": {
   "display_name": "Python 3 (ipykernel)",
   "language": "python",
   "name": "python3"
  },
  "language_info": {
   "codemirror_mode": {
    "name": "ipython",
    "version": 3
   },
   "file_extension": ".py",
   "mimetype": "text/x-python",
   "name": "python",
   "nbconvert_exporter": "python",
   "pygments_lexer": "ipython3",
   "version": "3.8.10"
  }
 },
 "nbformat": 4,
 "nbformat_minor": 5
}
