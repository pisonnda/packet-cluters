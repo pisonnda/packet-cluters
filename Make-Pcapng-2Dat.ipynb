{
 "cells": [
  {
   "cell_type": "markdown",
   "id": "648af1f3-c4c7-431a-93d9-3f3ec41eca8e",
   "metadata": {},
   "source": [
    "# 2022.07.14 Version1: pcap, pcap-ng --> .csv"
   ]
  },
  {
   "cell_type": "markdown",
   "id": "71c48059-8fb0-4f6b-9970-bd974c37af75",
   "metadata": {},
   "source": [
    "# 実行:File Path -> Specific Character -> Run"
   ]
  },
  {
   "cell_type": "code",
   "execution_count": 20,
   "id": "d3cd4dc8-b647-4713-9a1f-a57b7146855a",
   "metadata": {},
   "outputs": [
    {
     "name": "stdout",
     "output_type": "stream",
     "text": [
      "['/data/darknet/2016/2016-09-30.pcap.zst']\n"
     ]
    }
   ],
   "source": [
    "#Import\n",
    "import dpkt \n",
    "import csv\n",
    "import glob\n",
    "import numpy as np\n",
    "import os\n",
    "\n",
    "TH_SYN = 0x02\n",
    "TH_ACK = 0x10\n",
    "OUTFILE= \"2016-09-30.csv\"\n",
    "#df = pd.DataFrame(datalist, columns=metaif)\n",
    "metaif = [\"IPID\", \"TTL\",\"SRCIP\", \"DSTIP\", \"SPORT\", \"DPORT\", \"TSEQ\", \"WINDS\"]\n",
    "\n",
    "#file1 = glob.glob(\"/home/pison/D1/cluster/pcap/e70*.pcap\")\n",
    "#files = file1 + file2\n",
    "#files = glob.glob(\"/home/pison/D1/cluster/pcap/pison*.pcap\")\n",
    "#file2 = glob.glob(\"/home/pison/D1/cluster/pcap/e435*.pcap\")\n",
    "\n",
    "file2 = glob.glob(\"/data/darknet/2016/2016-09-30.pcap.zst\")\n",
    "files = sorted(file2)[:1]\n",
    "print(files)"
   ]
  },
  {
   "cell_type": "code",
   "execution_count": 24,
   "id": "61261919-2922-455f-a7cd-24eb9c0fac2f",
   "metadata": {
    "tags": []
   },
   "outputs": [
    {
     "name": "stdout",
     "output_type": "stream",
     "text": [
      "2016-09-30.pcap.zst:0\n"
     ]
    }
   ],
   "source": [
    "#Make Data from each pcap file\n",
    "for file in files:\n",
    "    datalist = []\n",
    "    fp = open(file, \"rb\")\n",
    "    sig = (fp.read(4)).hex()\n",
    "    fp.seek(0)\n",
    "    \n",
    "    if sig == 'd4c3b2a1':\n",
    "        packets = dpkt.pcap.Reader(fp)\n",
    "    elif sig == '0a0d0d0a':\n",
    "        packets = dpkt.pcapng.Reader(fp)\n",
    "        \n",
    "    #Packets を処理する\n",
    "    for ts, buf in packets:\n",
    "        try: \n",
    "            eth = dpkt.ethernet.Ethernet(buf)\n",
    "        except:\n",
    "            print(\"Fail parse Frame\")\n",
    "\n",
    "        #Verify: IP Packet\n",
    "        if type(eth.data) == dpkt.ip.IP:\n",
    "            ip = eth.data\n",
    "            srcip \t= int.from_bytes(ip.src, \"big\")\n",
    "            dstip\t= int.from_bytes(ip.dst, \"big\")\n",
    "            ipid \t= ip.id\n",
    "            ipttl \t= ip.ttl\n",
    "\n",
    "            #Verify: TCP packet\n",
    "            if ip.p == dpkt.ip.IP_PROTO_TCP:\n",
    "                tcp \t= ip.data\n",
    "                try:\n",
    "                    tsport \t= tcp.sport\n",
    "                    tdport \t= tcp.dport\n",
    "                    tseq \t= tcp.seq\n",
    "                    twin \t= tcp.win\n",
    "                    if tcp.flags == TH_SYN and tcp.flags != TH_ACK:\n",
    "                        #if tcp.seq == dstip:\n",
    "                        phrase = [ipid, ipttl, srcip, dstip, tsport, tdport, tseq, twin]\n",
    "                        datalist.append(phrase)\n",
    "                except:\n",
    "                    continue\n",
    "    filename = os.path.basename(file)\n",
    "    title = filename.ljust(5, \" \")+ \":\" + str(len(datalist))\n",
    "    print(title)\n",
    "    outfile = str(filename) + \".csv\"\n",
    "    \n",
    "    with open(outfile, \"w\") as ofile:\n",
    "        write = csv.writer(ofile)\n",
    "        write.writerow(metaif)\n",
    "        write.writerows(datalist)"
   ]
  },
  {
   "cell_type": "code",
   "execution_count": 22,
   "id": "113ca6e1-bf19-4a36-aa5d-4748d486bc33",
   "metadata": {},
   "outputs": [],
   "source": [
    "# Error 発生している"
   ]
  },
  {
   "cell_type": "code",
   "execution_count": null,
   "id": "8d4e1cf6-b0a6-49bd-95fd-cc5cc38e6deb",
   "metadata": {},
   "outputs": [],
   "source": []
  }
 ],
 "metadata": {
  "kernelspec": {
   "display_name": "Python 3 (ipykernel)",
   "language": "python",
   "name": "python3"
  },
  "language_info": {
   "codemirror_mode": {
    "name": "ipython",
    "version": 3
   },
   "file_extension": ".py",
   "mimetype": "text/x-python",
   "name": "python",
   "nbconvert_exporter": "python",
   "pygments_lexer": "ipython3",
   "version": "3.8.10"
  }
 },
 "nbformat": 4,
 "nbformat_minor": 5
}
