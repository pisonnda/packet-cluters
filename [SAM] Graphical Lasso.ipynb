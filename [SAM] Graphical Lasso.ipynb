{
 "cells": [
  {
   "cell_type": "markdown",
   "id": "9d69e4bd-3aba-40ab-9b9e-84808ca3e235",
   "metadata": {},
   "source": [
    "# Graphical Lasso Notebook"
   ]
  },
  {
   "cell_type": "code",
   "execution_count": 14,
   "id": "4956e852-6ae4-4d41-81a4-07b9c656ba9c",
   "metadata": {},
   "outputs": [],
   "source": [
    "import sys\n",
    "import csv\n",
    "import pandas as pd\n",
    "import numpy as np\n",
    "import scipy as sp\n",
    "import igraph as ig\n",
    "import matplotlib.pyplot as plt\n",
    "from sklearn.covariance import GraphicalLassoCV"
   ]
  },
  {
   "cell_type": "code",
   "execution_count": 16,
   "id": "334a561c-b57b-4006-bc9a-c68d29ee2e0b",
   "metadata": {},
   "outputs": [],
   "source": [
    "def main(filename):\n",
    "\t#データを読み込む\n",
    "\tfp = open(filename)\n",
    "\tdat1 = list(csv.reader(fp))\n",
    "\n",
    "\t#最初の行をとる\n",
    "\tfeature_names = dat1[0]\n",
    "\tdat1 = dat1[1:]\n",
    "\tdat2 = [list(map(int, row)) for row in dat1]\n",
    "\tX = ltonpa(dat2)\n",
    "    \n",
    "\t#正規化\n",
    "\tX = sp.stats.zscore(X, axis=0)\n",
    "    \n",
    "\tmodel = GraphicalLassoCV(alphas=4, cv=2, verbose=True)\n",
    "\t#model = GraphicalLassoCV(alphas=, verbose=True)\n",
    "\tmodel.fit(X)\n",
    "\tcov_ = model.covariance_\n",
    "\tprec_ = model.precision_\n",
    "\n",
    "\t##グラフデータ生成と表示\n",
    "\tgraph_data = glasso_graph_make(model, feature_names, threshold=0.6)\n",
    "\t#graph_data\n",
    "\tplt.show()"
   ]
  },
  {
   "cell_type": "code",
   "execution_count": 17,
   "id": "42fe546e-1934-43ef-a48f-5a65443b46b3",
   "metadata": {},
   "outputs": [],
   "source": [
    "#グラフ生成関数\n",
    "def glasso_graph_make(model, feature_names, threshold):\n",
    "\t#分散共分散行列を取得 (Get varience-covarience matrix)\n",
    "\tcovariance_matrix = model.covariance_\n",
    "\n",
    "\t#分散共分散行列を相関行列に変換\n",
    "\tdiagonal = np.sqrt(covariance_matrix.diagonal())\n",
    "\tcorrelation_matrix = ((covariance_matrix.T / diagonal).T) / diagonal\n",
    "\n",
    "\t#グラフ表示のために体格成分が0の行列を生成する。\n",
    "\tcorrelation_matrix_diag_zero = correlation_matrix - np.diag(np.diag(correlation_matrix))\n",
    "\tdf_graph_data = pd.DataFrame(index=feature_names, columns=feature_names, data=correlation_matrix_diag_zero.tolist())\n",
    "\n",
    "\t#グラフ生成準備\n",
    "\tgraph_data = ig.Graph()\n",
    "\tgraph_data.add_vertices(len(feature_names))\n",
    "\tgraph_data.vs[\"feature_names\"] = feature_names\n",
    "\tgraph_data.vs[\"label\"] = graph_data.vs[\"feature_names\"]\n",
    "\tvisual_style = {}\n",
    "\tedge_width_list = []\n",
    "\tedge_color_list = []\n",
    "\n",
    "\t#グラフ生成\n",
    "\tfor target_index in range(len(df_graph_data.index)):\n",
    "\t\tfor target_column in range(len(df_graph_data.columns)):\n",
    "\t\t\tif target_column >= target_index:\n",
    "\t\t\t\tgraph_data_abs_element = df_graph_data.iloc[target_index, target_column]\n",
    "\t\t\t\tif abs(graph_data_abs_element) >= threshold:\n",
    "\t\t\t\t\tedge = [(target_index, target_column)]\n",
    "\t\t\t\t\tgraph_data.add_edges(edge)\n",
    "\t\t\t\t\tedge_width_list.append(abs(graph_data_abs_element)*10)\n",
    "\t\t\t\t\tif graph_data_abs_element > 0:\n",
    "\t\t\t\t\t\tedge_color_list.append(\"red\")\n",
    "\t\t\t\t\telse:\n",
    "\t\t\t\t\t\tedge_color_list.append(\"blue\")\n",
    "\t\n",
    "\tvisual_style[\"edge_width\"] = edge_width_list\n",
    "\tvisual_style[\"edge_color\"] = edge_color_list\n",
    "\tdraw_graph = ig.plot(graph_data, **visual_style, vertex_size=50, bbox=(500,500), vertex_color=\"skyblue\", layout=\"circle\", margin=50)\n",
    "\tdraw_graph\n",
    "\treturn draw_graph"
   ]
  },
  {
   "cell_type": "code",
   "execution_count": 18,
   "id": "6c4af66e-91e1-429b-833f-03996785a2e1",
   "metadata": {},
   "outputs": [],
   "source": [
    "#List to \"numpy.array\"\n",
    "def ltonpa(dat1):\n",
    "\tnpa = np.array(dat1)\n",
    "\treturn npa"
   ]
  },
  {
   "cell_type": "code",
   "execution_count": 19,
   "id": "b95d009f-8664-4f11-8a6d-7503be8a7385",
   "metadata": {
    "tags": []
   },
   "outputs": [
    {
     "name": "stdout",
     "output_type": "stream",
     "text": [
      "[GraphicalLassoCV] Done refinement  1 out of 4:   0s\n",
      "[GraphicalLassoCV] Done refinement  2 out of 4:   0s\n",
      "[GraphicalLassoCV] Done refinement  3 out of 4:   0s\n",
      "[GraphicalLassoCV] Done refinement  4 out of 4:   0s\n"
     ]
    },
    {
     "name": "stderr",
     "output_type": "stream",
     "text": [
      "[Parallel(n_jobs=1)]: Using backend SequentialBackend with 1 concurrent workers.\n",
      "[Parallel(n_jobs=1)]: Done   2 out of   2 | elapsed:    0.0s finished\n",
      "[Parallel(n_jobs=1)]: Using backend SequentialBackend with 1 concurrent workers.\n",
      "[Parallel(n_jobs=1)]: Done   2 out of   2 | elapsed:    0.0s finished\n",
      "[Parallel(n_jobs=1)]: Using backend SequentialBackend with 1 concurrent workers.\n",
      "[Parallel(n_jobs=1)]: Done   2 out of   2 | elapsed:    0.0s finished\n",
      "[Parallel(n_jobs=1)]: Using backend SequentialBackend with 1 concurrent workers.\n",
      "[Parallel(n_jobs=1)]: Done   2 out of   2 | elapsed:    0.0s finished\n"
     ]
    }
   ],
   "source": [
    "main(\"group9.csv\")"
   ]
  },
  {
   "cell_type": "code",
   "execution_count": null,
   "id": "897caee5-3994-4995-ad33-5cebafdc8357",
   "metadata": {},
   "outputs": [],
   "source": []
  }
 ],
 "metadata": {
  "kernelspec": {
   "display_name": "Python 3 (ipykernel)",
   "language": "python",
   "name": "python3"
  },
  "language_info": {
   "codemirror_mode": {
    "name": "ipython",
    "version": 3
   },
   "file_extension": ".py",
   "mimetype": "text/x-python",
   "name": "python",
   "nbconvert_exporter": "python",
   "pygments_lexer": "ipython3",
   "version": "3.8.10"
  }
 },
 "nbformat": 4,
 "nbformat_minor": 5
}
