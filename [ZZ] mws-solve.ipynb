{
 "cells": [
  {
   "cell_type": "markdown",
   "id": "c7194622-8cce-450f-9b87-d772b6bb85bc",
   "metadata": {},
   "source": [
    "# MWSデータセット（Json）ファイルを読み込み、SYNパケットのヘッダー情報を取得"
   ]
  },
  {
   "cell_type": "code",
   "execution_count": 23,
   "id": "a0d69adc-a8d3-41e1-990d-43decd8a1707",
   "metadata": {},
   "outputs": [
    {
     "name": "stdout",
     "output_type": "stream",
     "text": [
      "src\t192.168.0.3\n",
      "dst\t111.108.54.19\n",
      "offset\t1302\n",
      "time\t7.111356019973755\n",
      "dport\t80\n",
      "sport\t49169\n",
      "-----\n",
      "src\t192.168.0.3\n",
      "dst\t111.108.54.19\n",
      "offset\t3883\n",
      "time\t7.1111040115356445\n",
      "dport\t80\n",
      "sport\t49170\n",
      "-----\n",
      "src\t192.168.0.3\n",
      "dst\t111.108.54.19\n",
      "offset\t6494\n",
      "time\t7.110929012298584\n",
      "dport\t80\n",
      "sport\t49171\n",
      "-----\n",
      "src\t192.168.0.3\n",
      "dst\t111.221.29.102\n",
      "offset\t7876\n",
      "time\t12.056730031967163\n",
      "dport\t443\n",
      "sport\t49178\n",
      "-----\n",
      "src\t192.168.0.3\n",
      "dst\t111.221.29.164\n",
      "offset\t15161\n",
      "time\t9.141999959945679\n",
      "dport\t443\n",
      "sport\t49164\n",
      "-----\n",
      "src\t192.168.0.3\n",
      "dst\t111.221.29.164\n",
      "offset\t15582\n",
      "time\t5.059422016143799\n",
      "dport\t443\n",
      "sport\t49167\n",
      "-----\n",
      "src\t192.168.0.3\n",
      "dst\t111.221.29.66\n",
      "offset\t21627\n",
      "time\t11.75090503692627\n",
      "dport\t443\n",
      "sport\t49176\n",
      "-----\n",
      "src\t192.168.0.3\n",
      "dst\t111.221.29.77\n",
      "offset\t28700\n",
      "time\t9.173151016235352\n",
      "dport\t443\n",
      "sport\t49166\n",
      "-----\n",
      "src\t192.168.0.3\n",
      "dst\t131.253.61.66\n",
      "offset\t29198\n",
      "time\t8.615256071090698\n",
      "dport\t80\n",
      "sport\t49173\n",
      "-----\n",
      "src\t192.168.0.3\n",
      "dst\t131.253.61.66\n",
      "offset\t30607\n",
      "time\t11.268146991729736\n",
      "dport\t443\n",
      "sport\t49174\n",
      "-----\n",
      "src\t192.168.0.3\n",
      "dst\t23.2.16.9\n",
      "offset\t51618\n",
      "time\t11.791301012039185\n",
      "dport\t80\n",
      "sport\t49177\n",
      "-----\n"
     ]
    }
   ],
   "source": [
    "import json\n",
    "file = open('sample.json', mode='rt', encoding='utf-8')\n",
    "data = json.load(file)\n",
    "network = data['network']\n",
    "tcps = network['tcp']\n",
    "for packet in tcps:\n",
    "    for k,v in packet.items():\n",
    "        print('{}\\t{}'.format(k, v))\n",
    "    print('-----')\n",
    "#    print(packet)"
   ]
  },
  {
   "cell_type": "code",
   "execution_count": null,
   "id": "7e5bc45f-f8f7-44af-9c62-e38db475ddc7",
   "metadata": {},
   "outputs": [],
   "source": []
  }
 ],
 "metadata": {
  "kernelspec": {
   "display_name": "Python 3 (ipykernel)",
   "language": "python",
   "name": "python3"
  },
  "language_info": {
   "codemirror_mode": {
    "name": "ipython",
    "version": 3
   },
   "file_extension": ".py",
   "mimetype": "text/x-python",
   "name": "python",
   "nbconvert_exporter": "python",
   "pygments_lexer": "ipython3",
   "version": "3.8.10"
  }
 },
 "nbformat": 4,
 "nbformat_minor": 5
}
